{
 "cells": [
  {
   "cell_type": "code",
   "execution_count": 10,
   "metadata": {},
   "outputs": [],
   "source": [
    "import csv\n",
    "import requests\n",
    "import pandas as pd\n",
    "from bs4 import BeautifulSoup"
   ]
  },
  {
   "cell_type": "code",
   "execution_count": 11,
   "metadata": {},
   "outputs": [],
   "source": [
    "url=\"https://ocw.mit.edu/courses/6-006-introduction-to-algorithms-spring-2020/video_galleries/lecture-videos/\"\n",
    "response=requests.get(url)"
   ]
  },
  {
   "cell_type": "code",
   "execution_count": 12,
   "metadata": {},
   "outputs": [],
   "source": [
    "soup=BeautifulSoup(response.text,'html.parser')"
   ]
  },
  {
   "cell_type": "code",
   "execution_count": 13,
   "metadata": {},
   "outputs": [
    {
     "data": {
      "text/plain": [
       "<div class=\"mb-2 border-gray rounded video-gallery-card\">\n",
       "<a class=\"video-link\" href=\"/courses/6-006-introduction-to-algorithms-spring-2020/resources/lecture-1-algorithms-and-computation/\">\n",
       "<div class=\"inner-container\">\n",
       "<div class=\"left-col\"><img alt=\"\" class=\"thumbnail\" src=\"https://img.youtube.com/vi/ZA-tUyM_y7s/default.jpg\"/></div>\n",
       "<div class=\"right-col py-5\">\n",
       "<h5 class=\"video-title\">Lecture 1: Algorithms and Computation</h5>\n",
       "</div>\n",
       "</div>\n",
       "</a>\n",
       "</div>"
      ]
     },
     "execution_count": 13,
     "metadata": {},
     "output_type": "execute_result"
    }
   ],
   "source": [
    "div_1=soup.find('div',attrs={'class':'mb-2 border-gray rounded video-gallery-card'})\n",
    "div_1"
   ]
  },
  {
   "cell_type": "code",
   "execution_count": 14,
   "metadata": {},
   "outputs": [
    {
     "data": {
      "text/plain": [
       "<a class=\"video-link\" href=\"/courses/6-006-introduction-to-algorithms-spring-2020/resources/lecture-1-algorithms-and-computation/\">\n",
       "<div class=\"inner-container\">\n",
       "<div class=\"left-col\"><img alt=\"\" class=\"thumbnail\" src=\"https://img.youtube.com/vi/ZA-tUyM_y7s/default.jpg\"/></div>\n",
       "<div class=\"right-col py-5\">\n",
       "<h5 class=\"video-title\">Lecture 1: Algorithms and Computation</h5>\n",
       "</div>\n",
       "</div>\n",
       "</a>"
      ]
     },
     "execution_count": 14,
     "metadata": {},
     "output_type": "execute_result"
    }
   ],
   "source": [
    "div_1.find('a',attrs={'class',\"video-link\"})"
   ]
  },
  {
   "cell_type": "code",
   "execution_count": 15,
   "metadata": {},
   "outputs": [
    {
     "data": {
      "text/plain": [
       "'Lecture 1: Algorithms and Computation'"
      ]
     },
     "execution_count": 15,
     "metadata": {},
     "output_type": "execute_result"
    }
   ],
   "source": [
    "name_of_lec=div_1.find('a',attrs={'class',\"video-link\"}).get_text().strip()\n",
    "name_of_lec"
   ]
  },
  {
   "cell_type": "code",
   "execution_count": 16,
   "metadata": {},
   "outputs": [
    {
     "data": {
      "text/plain": [
       "'/courses/6-006-introduction-to-algorithms-spring-2020/resources/lecture-1-algorithms-and-computation/'"
      ]
     },
     "execution_count": 16,
     "metadata": {},
     "output_type": "execute_result"
    }
   ],
   "source": [
    "link= div_1.find('a',attrs={'class',\"video-link\"}).get('href')\n",
    "link"
   ]
  },
  {
   "cell_type": "code",
   "execution_count": 18,
   "metadata": {},
   "outputs": [
    {
     "ename": "NameError",
     "evalue": "name 'a' is not defined",
     "output_type": "error",
     "traceback": [
      "\u001b[1;31m---------------------------------------------------------------------------\u001b[0m",
      "\u001b[1;31mNameError\u001b[0m                                 Traceback (most recent call last)",
      "\u001b[1;32m<ipython-input-18-cde7983d52e1>\u001b[0m in \u001b[0;36m<module>\u001b[1;34m\u001b[0m\n\u001b[0;32m      6\u001b[0m     \u001b[1;32mfor\u001b[0m \u001b[0mdiv\u001b[0m \u001b[1;32min\u001b[0m \u001b[0msoup\u001b[0m\u001b[1;33m.\u001b[0m\u001b[0mfind_all\u001b[0m\u001b[1;33m(\u001b[0m\u001b[1;34m'a'\u001b[0m\u001b[1;33m,\u001b[0m\u001b[0mattrs\u001b[0m\u001b[1;33m=\u001b[0m\u001b[1;33m{\u001b[0m\u001b[1;34m'class'\u001b[0m\u001b[1;33m,\u001b[0m\u001b[1;34m\"video-link\"\u001b[0m\u001b[1;33m}\u001b[0m\u001b[1;33m)\u001b[0m\u001b[1;33m:\u001b[0m\u001b[1;33m\u001b[0m\u001b[1;33m\u001b[0m\u001b[0m\n\u001b[0;32m      7\u001b[0m         \u001b[0mname_lec\u001b[0m \u001b[1;33m=\u001b[0m \u001b[0mdiv\u001b[0m\u001b[1;33m.\u001b[0m\u001b[0mget_text\u001b[0m\u001b[1;33m(\u001b[0m\u001b[1;33m)\u001b[0m\u001b[1;33m.\u001b[0m\u001b[0mstrip\u001b[0m\u001b[1;33m(\u001b[0m\u001b[1;33m)\u001b[0m\u001b[1;33m\u001b[0m\u001b[1;33m\u001b[0m\u001b[0m\n\u001b[1;32m----> 8\u001b[1;33m         \u001b[0mlink\u001b[0m\u001b[1;33m=\u001b[0m\u001b[1;34m'https://ocw.mit.edu'\u001b[0m\u001b[1;33m+\u001b[0m \u001b[0ma\u001b[0m\u001b[1;33m.\u001b[0m\u001b[0mget\u001b[0m\u001b[1;33m(\u001b[0m\u001b[1;34m'href'\u001b[0m\u001b[1;33m)\u001b[0m\u001b[1;33m\u001b[0m\u001b[1;33m\u001b[0m\u001b[0m\n\u001b[0m\u001b[0;32m      9\u001b[0m \u001b[1;33m\u001b[0m\u001b[0m\n\u001b[0;32m     10\u001b[0m         \u001b[0mwriter\u001b[0m\u001b[1;33m.\u001b[0m\u001b[0mwriterow\u001b[0m\u001b[1;33m(\u001b[0m\u001b[1;33m{\u001b[0m\u001b[1;34m'name'\u001b[0m\u001b[1;33m:\u001b[0m \u001b[0mname_lec\u001b[0m\u001b[1;33m,\u001b[0m \u001b[1;34m'url'\u001b[0m\u001b[1;33m:\u001b[0m \u001b[0mlink\u001b[0m\u001b[1;33m}\u001b[0m\u001b[1;33m)\u001b[0m\u001b[1;33m\u001b[0m\u001b[1;33m\u001b[0m\u001b[0m\n",
      "\u001b[1;31mNameError\u001b[0m: name 'a' is not defined"
     ]
    }
   ],
   "source": [
    "with open('data_mit.csv', mode='w',encoding='utf-8') as Data_Mit:\n",
    "    fieldnames = ['name', 'url']\n",
    "    writer = csv.DictWriter(Data_Mit, fieldnames=fieldnames)\n",
    "    writer.writeheader()\n",
    "    \n",
    "    for div in soup.find_all('a',attrs={'class',\"video-link\"}):\n",
    "        name_lec = div.get_text().strip()\n",
    "        link='https://ocw.mit.edu'+ a.get('href')    \n",
    "           \n",
    "        writer.writerow({'name': name_lec, 'url': link})"
   ]
  },
  {
   "cell_type": "code",
   "execution_count": 22,
   "metadata": {},
   "outputs": [],
   "source": [
    "with open('data_mit.csv', mode='w',encoding='utf-8') as Data_Mit:\n",
    "    fieldnames = ['name', 'url']\n",
    "    writer = csv.DictWriter(Data_Mit, fieldnames=fieldnames)\n",
    "    writer.writeheader()\n",
    "    \n",
    "    for a in soup.find_all('a',attrs={'class',\"video-link\"}):\n",
    "        name = a.get_text().strip()\n",
    "        link='https://ocw.mit.edu'+ a.get('href')    \n",
    "           \n",
    "        writer.writerow({'name': name, 'url': link})"
   ]
  },
  {
   "cell_type": "code",
   "execution_count": 24,
   "metadata": {},
   "outputs": [
    {
     "data": {
      "text/html": [
       "<div>\n",
       "<style scoped>\n",
       "    .dataframe tbody tr th:only-of-type {\n",
       "        vertical-align: middle;\n",
       "    }\n",
       "\n",
       "    .dataframe tbody tr th {\n",
       "        vertical-align: top;\n",
       "    }\n",
       "\n",
       "    .dataframe thead th {\n",
       "        text-align: right;\n",
       "    }\n",
       "</style>\n",
       "<table border=\"1\" class=\"dataframe\">\n",
       "  <thead>\n",
       "    <tr style=\"text-align: right;\">\n",
       "      <th></th>\n",
       "      <th>name</th>\n",
       "      <th>url</th>\n",
       "    </tr>\n",
       "  </thead>\n",
       "  <tbody>\n",
       "    <tr>\n",
       "      <th>0</th>\n",
       "      <td>Lecture 1: Algorithms and Computation</td>\n",
       "      <td>https://ocw.mit.edu/courses/6-006-introduction...</td>\n",
       "    </tr>\n",
       "    <tr>\n",
       "      <th>1</th>\n",
       "      <td>Lecture 2: Data Structures and Dynamic Arrays</td>\n",
       "      <td>https://ocw.mit.edu/courses/6-006-introduction...</td>\n",
       "    </tr>\n",
       "    <tr>\n",
       "      <th>2</th>\n",
       "      <td>Problem Session 1</td>\n",
       "      <td>https://ocw.mit.edu/courses/6-006-introduction...</td>\n",
       "    </tr>\n",
       "    <tr>\n",
       "      <th>3</th>\n",
       "      <td>Lecture 3: Sets and Sorting</td>\n",
       "      <td>https://ocw.mit.edu/courses/6-006-introduction...</td>\n",
       "    </tr>\n",
       "    <tr>\n",
       "      <th>4</th>\n",
       "      <td>Lecture 4: Hashing</td>\n",
       "      <td>https://ocw.mit.edu/courses/6-006-introduction...</td>\n",
       "    </tr>\n",
       "    <tr>\n",
       "      <th>5</th>\n",
       "      <td>Problem Session 2</td>\n",
       "      <td>https://ocw.mit.edu/courses/6-006-introduction...</td>\n",
       "    </tr>\n",
       "    <tr>\n",
       "      <th>6</th>\n",
       "      <td>Lecture 5: Linear Sorting</td>\n",
       "      <td>https://ocw.mit.edu/courses/6-006-introduction...</td>\n",
       "    </tr>\n",
       "    <tr>\n",
       "      <th>7</th>\n",
       "      <td>Problem Session 3</td>\n",
       "      <td>https://ocw.mit.edu/courses/6-006-introduction...</td>\n",
       "    </tr>\n",
       "    <tr>\n",
       "      <th>8</th>\n",
       "      <td>Lecture 6: Binary Trees, Part 1</td>\n",
       "      <td>https://ocw.mit.edu/courses/6-006-introduction...</td>\n",
       "    </tr>\n",
       "    <tr>\n",
       "      <th>9</th>\n",
       "      <td>Lecture 7: Binary Trees, Part 2: AVL</td>\n",
       "      <td>https://ocw.mit.edu/courses/6-006-introduction...</td>\n",
       "    </tr>\n",
       "    <tr>\n",
       "      <th>10</th>\n",
       "      <td>Problem Session 4</td>\n",
       "      <td>https://ocw.mit.edu/courses/6-006-introduction...</td>\n",
       "    </tr>\n",
       "    <tr>\n",
       "      <th>11</th>\n",
       "      <td>Lecture 8: Binary Heaps</td>\n",
       "      <td>https://ocw.mit.edu/courses/6-006-introduction...</td>\n",
       "    </tr>\n",
       "    <tr>\n",
       "      <th>12</th>\n",
       "      <td>Lecture 9: Breadth-First Search</td>\n",
       "      <td>https://ocw.mit.edu/courses/6-006-introduction...</td>\n",
       "    </tr>\n",
       "    <tr>\n",
       "      <th>13</th>\n",
       "      <td>Quiz 1 Review</td>\n",
       "      <td>https://ocw.mit.edu/courses/6-006-introduction...</td>\n",
       "    </tr>\n",
       "    <tr>\n",
       "      <th>14</th>\n",
       "      <td>Lecture 10: Depth-First Search</td>\n",
       "      <td>https://ocw.mit.edu/courses/6-006-introduction...</td>\n",
       "    </tr>\n",
       "    <tr>\n",
       "      <th>15</th>\n",
       "      <td>Lecture 11: Weighted Shortest Paths</td>\n",
       "      <td>https://ocw.mit.edu/courses/6-006-introduction...</td>\n",
       "    </tr>\n",
       "    <tr>\n",
       "      <th>16</th>\n",
       "      <td>Problem Session 5</td>\n",
       "      <td>https://ocw.mit.edu/courses/6-006-introduction...</td>\n",
       "    </tr>\n",
       "    <tr>\n",
       "      <th>17</th>\n",
       "      <td>Lecture 12: Bellman-Ford</td>\n",
       "      <td>https://ocw.mit.edu/courses/6-006-introduction...</td>\n",
       "    </tr>\n",
       "    <tr>\n",
       "      <th>18</th>\n",
       "      <td>Problem Session 6</td>\n",
       "      <td>https://ocw.mit.edu/courses/6-006-introduction...</td>\n",
       "    </tr>\n",
       "    <tr>\n",
       "      <th>19</th>\n",
       "      <td>Lecture 13: Dijkstra</td>\n",
       "      <td>https://ocw.mit.edu/courses/6-006-introduction...</td>\n",
       "    </tr>\n",
       "    <tr>\n",
       "      <th>20</th>\n",
       "      <td>Problem Session 7</td>\n",
       "      <td>https://ocw.mit.edu/courses/6-006-introduction...</td>\n",
       "    </tr>\n",
       "    <tr>\n",
       "      <th>21</th>\n",
       "      <td>Lecture 14: APSP and Johnson</td>\n",
       "      <td>https://ocw.mit.edu/courses/6-006-introduction...</td>\n",
       "    </tr>\n",
       "    <tr>\n",
       "      <th>22</th>\n",
       "      <td>Quiz 2 Review</td>\n",
       "      <td>https://ocw.mit.edu/courses/6-006-introduction...</td>\n",
       "    </tr>\n",
       "    <tr>\n",
       "      <th>23</th>\n",
       "      <td>Lecture 15: Dynamic Programming, Part 1: SRTBO...</td>\n",
       "      <td>https://ocw.mit.edu/courses/6-006-introduction...</td>\n",
       "    </tr>\n",
       "    <tr>\n",
       "      <th>24</th>\n",
       "      <td>Lecture 16: Dynamic Programming, Part 2: LCS, ...</td>\n",
       "      <td>https://ocw.mit.edu/courses/6-006-introduction...</td>\n",
       "    </tr>\n",
       "    <tr>\n",
       "      <th>25</th>\n",
       "      <td>Problem Session 8</td>\n",
       "      <td>https://ocw.mit.edu/courses/6-006-introduction...</td>\n",
       "    </tr>\n",
       "    <tr>\n",
       "      <th>26</th>\n",
       "      <td>Lecture 17: Dynamic Programming, Part 3: APSP,...</td>\n",
       "      <td>https://ocw.mit.edu/courses/6-006-introduction...</td>\n",
       "    </tr>\n",
       "    <tr>\n",
       "      <th>27</th>\n",
       "      <td>Lecture 18: Dynamic Programming, Part 4: Rods,...</td>\n",
       "      <td>https://ocw.mit.edu/courses/6-006-introduction...</td>\n",
       "    </tr>\n",
       "    <tr>\n",
       "      <th>28</th>\n",
       "      <td>Lecture 19: Complexity</td>\n",
       "      <td>https://ocw.mit.edu/courses/6-006-introduction...</td>\n",
       "    </tr>\n",
       "    <tr>\n",
       "      <th>29</th>\n",
       "      <td>Quiz 3 Review</td>\n",
       "      <td>https://ocw.mit.edu/courses/6-006-introduction...</td>\n",
       "    </tr>\n",
       "    <tr>\n",
       "      <th>30</th>\n",
       "      <td>Lecture 20: Course Review</td>\n",
       "      <td>https://ocw.mit.edu/courses/6-006-introduction...</td>\n",
       "    </tr>\n",
       "    <tr>\n",
       "      <th>31</th>\n",
       "      <td>Lecture 21: AlgorithmsâNext Steps</td>\n",
       "      <td>https://ocw.mit.edu/courses/6-006-introduction...</td>\n",
       "    </tr>\n",
       "  </tbody>\n",
       "</table>\n",
       "</div>"
      ],
      "text/plain": [
       "                                                 name  \\\n",
       "0               Lecture 1: Algorithms and Computation   \n",
       "1       Lecture 2: Data Structures and Dynamic Arrays   \n",
       "2                                   Problem Session 1   \n",
       "3                         Lecture 3: Sets and Sorting   \n",
       "4                                  Lecture 4: Hashing   \n",
       "5                                   Problem Session 2   \n",
       "6                           Lecture 5: Linear Sorting   \n",
       "7                                   Problem Session 3   \n",
       "8                     Lecture 6: Binary Trees, Part 1   \n",
       "9                Lecture 7: Binary Trees, Part 2: AVL   \n",
       "10                                  Problem Session 4   \n",
       "11                            Lecture 8: Binary Heaps   \n",
       "12                    Lecture 9: Breadth-First Search   \n",
       "13                                      Quiz 1 Review   \n",
       "14                     Lecture 10: Depth-First Search   \n",
       "15                Lecture 11: Weighted Shortest Paths   \n",
       "16                                  Problem Session 5   \n",
       "17                           Lecture 12: Bellman-Ford   \n",
       "18                                  Problem Session 6   \n",
       "19                               Lecture 13: Dijkstra   \n",
       "20                                  Problem Session 7   \n",
       "21                       Lecture 14: APSP and Johnson   \n",
       "22                                      Quiz 2 Review   \n",
       "23  Lecture 15: Dynamic Programming, Part 1: SRTBO...   \n",
       "24  Lecture 16: Dynamic Programming, Part 2: LCS, ...   \n",
       "25                                  Problem Session 8   \n",
       "26  Lecture 17: Dynamic Programming, Part 3: APSP,...   \n",
       "27  Lecture 18: Dynamic Programming, Part 4: Rods,...   \n",
       "28                             Lecture 19: Complexity   \n",
       "29                                      Quiz 3 Review   \n",
       "30                          Lecture 20: Course Review   \n",
       "31                Lecture 21: AlgorithmsâNext Steps   \n",
       "\n",
       "                                                  url  \n",
       "0   https://ocw.mit.edu/courses/6-006-introduction...  \n",
       "1   https://ocw.mit.edu/courses/6-006-introduction...  \n",
       "2   https://ocw.mit.edu/courses/6-006-introduction...  \n",
       "3   https://ocw.mit.edu/courses/6-006-introduction...  \n",
       "4   https://ocw.mit.edu/courses/6-006-introduction...  \n",
       "5   https://ocw.mit.edu/courses/6-006-introduction...  \n",
       "6   https://ocw.mit.edu/courses/6-006-introduction...  \n",
       "7   https://ocw.mit.edu/courses/6-006-introduction...  \n",
       "8   https://ocw.mit.edu/courses/6-006-introduction...  \n",
       "9   https://ocw.mit.edu/courses/6-006-introduction...  \n",
       "10  https://ocw.mit.edu/courses/6-006-introduction...  \n",
       "11  https://ocw.mit.edu/courses/6-006-introduction...  \n",
       "12  https://ocw.mit.edu/courses/6-006-introduction...  \n",
       "13  https://ocw.mit.edu/courses/6-006-introduction...  \n",
       "14  https://ocw.mit.edu/courses/6-006-introduction...  \n",
       "15  https://ocw.mit.edu/courses/6-006-introduction...  \n",
       "16  https://ocw.mit.edu/courses/6-006-introduction...  \n",
       "17  https://ocw.mit.edu/courses/6-006-introduction...  \n",
       "18  https://ocw.mit.edu/courses/6-006-introduction...  \n",
       "19  https://ocw.mit.edu/courses/6-006-introduction...  \n",
       "20  https://ocw.mit.edu/courses/6-006-introduction...  \n",
       "21  https://ocw.mit.edu/courses/6-006-introduction...  \n",
       "22  https://ocw.mit.edu/courses/6-006-introduction...  \n",
       "23  https://ocw.mit.edu/courses/6-006-introduction...  \n",
       "24  https://ocw.mit.edu/courses/6-006-introduction...  \n",
       "25  https://ocw.mit.edu/courses/6-006-introduction...  \n",
       "26  https://ocw.mit.edu/courses/6-006-introduction...  \n",
       "27  https://ocw.mit.edu/courses/6-006-introduction...  \n",
       "28  https://ocw.mit.edu/courses/6-006-introduction...  \n",
       "29  https://ocw.mit.edu/courses/6-006-introduction...  \n",
       "30  https://ocw.mit.edu/courses/6-006-introduction...  \n",
       "31  https://ocw.mit.edu/courses/6-006-introduction...  "
      ]
     },
     "execution_count": 24,
     "metadata": {},
     "output_type": "execute_result"
    }
   ],
   "source": [
    "data = pd.read_csv('data_mit.csv')\n",
    "data"
   ]
  },
  {
   "cell_type": "code",
   "execution_count": null,
   "metadata": {},
   "outputs": [],
   "source": []
  }
 ],
 "metadata": {
  "kernelspec": {
   "display_name": "Python 3",
   "language": "python",
   "name": "python3"
  },
  "language_info": {
   "codemirror_mode": {
    "name": "ipython",
    "version": 3
   },
   "file_extension": ".py",
   "mimetype": "text/x-python",
   "name": "python",
   "nbconvert_exporter": "python",
   "pygments_lexer": "ipython3",
   "version": "3.8.3"
  }
 },
 "nbformat": 4,
 "nbformat_minor": 4
}
